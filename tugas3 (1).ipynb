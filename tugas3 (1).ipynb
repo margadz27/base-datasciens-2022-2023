{
  "nbformat": 4,
  "nbformat_minor": 0,
  "metadata": {
    "colab": {
      "private_outputs": true,
      "provenance": []
    },
    "kernelspec": {
      "name": "python3",
      "display_name": "Python 3"
    },
    "language_info": {
      "name": "python"
    }
  },
  "cells": [
    {
      "cell_type": "code",
      "execution_count": null,
      "metadata": {
        "id": "vtlVOrvyghA6"
      },
      "outputs": [],
      "source": [
        "import matplotlib.pyplot as plt"
      ]
    },
    {
      "cell_type": "code",
      "source": [
        "fig = plt.figure()\n",
        "ax = fig.add_axes([0,0,1,1])\n",
        "plt.title(\"data eskul smk\")\n",
        "eskul = ['pakibra', 'pmr' , 'pramuka', 'futsal','voly', 'kesenian', 'rohis']\n",
        "siswa   = [5,18,30,7,16,19,12]\n",
        "c = ['red','yellow','green','blue','black','purple','red']\n",
        "ax.bar(eskul, siswa, color = c)\n",
        "plt.show()"
      ],
      "metadata": {
        "id": "eni3AbCgkLub"
      },
      "execution_count": null,
      "outputs": []
    },
    {
      "cell_type": "code",
      "source": [
        "fig = plt.figure()\n",
        "ax = fig.add_axes([0,0,1,1])\n",
        "plt.title(\"data eskul smk\")\n",
        "eskul = ['kls10','kls11','kls12']\n",
        "siswa   = [107,100,80]\n",
        "c = ['red','yellow','green']\n",
        "ax.bar(eskul, siswa, color = c)\n",
        "plt.show()"
      ],
      "metadata": {
        "id": "01zaBStMqgqP"
      },
      "execution_count": null,
      "outputs": []
    },
    {
      "cell_type": "code",
      "source": [
        "print(\"\")\n",
        "print(\"soal no 3\")\n",
        "fut10 = 7\n",
        "fut11 = 29\n",
        "fut12 = 15\n",
        "vol10  = 16\n",
        "vol11  = 10\n",
        "vol12  = 12\n",
        "jml = fut10+fut11+fut12+vol10+vol11+vol12\n",
        "print(\"jumlah orang yang mengikuti olahraga : \" + str(jml))\n",
        "\n",
        "fut10 = 107\n",
        "fut11 = 100\n",
        "fut12 = 80\n",
        "jml   = fut10+fut11+fut12 - 89\n",
        "print(\"jumlah yang mengikuti eskul \" +str(jml))\n",
        "\n",
        "fut10 = 7\n",
        "fut11 = 29\n",
        "fut12 = 15\n",
        "jml   = fut10+fut11+fut12\n",
        "print(\"jumlah yang tidak mengikuti eskul \" +str(jml))\n",
        "\n",
        "a = 89\n",
        "b = 198\n",
        "c = 45\n",
        "pers = a * 100 /322\n",
        "pers2 = b * 100 / 322\n",
        "pers3 = c *100 /322\n",
        "print(\"jumlah orang yang mengikuti olahraga : \" + str(jml))\n",
        "print(\"jumlah yang mengikuti eskul \" +str(jml))\n",
        "print(\"jumlah yang tidak mengikuti eskul \" +str(jml))\n",
        "print(\"\")\n",
        "fig = plt.figure()\n",
        "ax = fig.add_axes([0,0,1,1])\n",
        "plt.title(\"data eskul smk\")\n",
        "eskul = ['olahraga', 'mengikuti' , 'tidak mengikuti']\n",
        "siswa   = [89,198,45]\n",
        "c = ['red','yellow','green']\n",
        "ax.bar(eskul, siswa, color = c)\n",
        "plt.show()\n",
        "fig = plt.figure()\n",
        "ax = fig.add_axes([0,0,1,1])\n",
        "ax.axis('equal')\n",
        "plt.title(\"data siswa yang  masuk eskul\")\n",
        "eskul = ['olahraga', 'mengikuti' , 'tidak mengikuti']\n",
        "siswa   = [89,198,45]\n",
        "ax.pie(siswa,labels=eskul,autopct='1%.2f%%')\n",
        "plt.show()"
      ],
      "metadata": {
        "id": "3XxgfmF5WvXZ"
      },
      "execution_count": null,
      "outputs": []
    },
    {
      "cell_type": "code",
      "source": [
        "print(\"===saol 4===\")\n",
        "kelas10 = 17\n",
        "kelas11 = 8\n",
        "kelas12 = 20\n",
        "hasil = (kelas10 + kelas11 + kelas12)\n",
        "print(\"jumlah semua yang tidak ikut eskul \" + str(hasil))\n",
        "\n",
        "kelas10 = 17\n",
        "kelas11 = 8\n",
        "kelas12 = 20\n",
        "jml = 45\n",
        "hasil1 = (kelas10 * 100/jml)\n",
        "hasil2 = (kelas11 * 100/jml)\n",
        "hasil3 = (kelas12 * 100/jml)\n",
        "print(\"jumlah semua yang tidak ikut eskul \" + str(hasil1))\n",
        "print(\"jumlah semua yang tidak ikut eskul \" + str(hasil2))\n",
        "print(\"jumlah semua yang tidak ikut eskul \" + str(hasil3))\n",
        "\n",
        "fig = plt.figure()\n",
        "ax = fig.add_axes([0,0,1,1])\n",
        "ax.axis('equal')\n",
        "plt.title(\"data siswa yang tidak masuk eskul\")\n",
        "nama = ['kelas10', 'kelas11' , 'kelas12']\n",
        "persentase   = [37.77777777777778,17.77777777777778, 44.44444444444444]\n",
        "ax.pie(persentase,labels=nama,autopct='1%.2f%%')\n",
        "plt.show()"
      ],
      "metadata": {
        "id": "vIXoKhF8Y9CB"
      },
      "execution_count": null,
      "outputs": []
    },
    {
      "cell_type": "code",
      "source": [
        "print(\"soal 5\")\n",
        "fig = plt.figure()\n",
        "ax = fig.add_axes([0,0,1,1])\n",
        "plt.title(\"data eskul smk kelas 10\")\n",
        "eskul = ['paskibra', 'pmr' , 'pramuka' , 'futsal',' volly','kesenian','rohis']\n",
        "siswa   = [5,18,30,7,16,19,12]\n",
        "c = ['red','yellow','green','blue','purple','black','red']\n",
        "ax.bar(eskul, siswa, color = c)\n",
        "plt.show()\n",
        "print(\"\")\n",
        "fig = plt.figure()\n",
        "ax = fig.add_axes([0,0,1,1])\n",
        "ax.axis('equal')\n",
        "plt.title(\"data eskul smk kelas 10\")\n",
        "eskul = ['paskibra', 'pmr' , 'pramuka' , 'futsal',' volly','kesenian','rohis']\n",
        "siswa   = [5,18,30,7,16,19,12]\n",
        "ax.pie(siswa,labels=eskul,autopct='1%.2f%%')\n",
        "plt.show()\n",
        "\n",
        "print(\"==========================================\")\n",
        "fig = plt.figure()\n",
        "ax = fig.add_axes([0,0,1,1])\n",
        "plt.title(\"data eskul smk kelas 11\")\n",
        "eskul = ['paskibra', 'pmr' , 'pramuka' , 'futsal',' volly','kesenian','rohis']\n",
        "siswa   = [21,4,8,29,10,18,10]\n",
        "c = ['red','yellow','green','blue','purple','black','red']\n",
        "ax.bar(eskul, siswa, color = c)\n",
        "plt.show()\n",
        "print(\"\")\n",
        "fig = plt.figure()\n",
        "ax = fig.add_axes([0,0,1,1])\n",
        "ax.axis('equal')\n",
        "plt.title(\"data eskul smk kelas 11\")\n",
        "eskul = ['paskibra', 'pmr' , 'pramuka' , 'futsal',' volly','kesenian','rohis']\n",
        "siswa   = [21,4,8,29,10,18,10]\n",
        "ax.pie(siswa,labels=eskul,autopct='1%.2f%%')\n",
        "plt.show()\n",
        "\n",
        "print(\"==========================================\")\n",
        "fig = plt.figure()\n",
        "ax = fig.add_axes([0,0,1,1])\n",
        "plt.title(\"data eskul smk kelas 12\")\n",
        "eskul = ['paskibra', 'pmr' , 'pramuka' , 'futsal',' volly','kesenian','rohis']\n",
        "siswa   = [6,12,24,15,12,4,7]\n",
        "c = ['red','yellow','green','blue','purple','black','red']\n",
        "ax.bar(eskul, siswa, color = c)\n",
        "plt.show()\n",
        "print(\"\")\n",
        "fig = plt.figure()\n",
        "ax = fig.add_axes([0,0,1,1])\n",
        "ax.axis('equal')\n",
        "plt.title(\"data eskul smk kelas 12\")\n",
        "eskul = ['paskibra', 'pmr' , 'pramuka' , 'futsal',' volly','kesenian','rohis']\n",
        "siswa   = [6,12,24,15,12,4,7]\n",
        "ax.pie(siswa,labels=eskul,autopct='1%.2f%%')\n",
        "plt.show()"
      ],
      "metadata": {
        "id": "Lh_CMau8dg4P"
      },
      "execution_count": null,
      "outputs": []
    }
  ]
}