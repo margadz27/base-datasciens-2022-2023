{
  "nbformat": 4,
  "nbformat_minor": 0,
  "metadata": {
    "colab": {
      "provenance": []
    },
    "kernelspec": {
      "name": "python3",
      "display_name": "Python 3"
    },
    "language_info": {
      "name": "python"
    }
  },
  "cells": [
    {
      "cell_type": "code",
      "execution_count": null,
      "metadata": {
        "colab": {
          "base_uri": "https://localhost:8080/"
        },
        "id": "k3DeuisbzuTP",
        "outputId": "d4a71388-1181-4756-c341-b33ad6cd0153"
      },
      "outputs": [
        {
          "output_type": "stream",
          "name": "stdout",
          "text": [
            "maka belanjaan tia139845.6rupiah\n",
            "maka jummlah belanjaan tia setelah mendapatkan diskon adalah125861.04000000001\n",
            "belanjaan hana\n",
            "maka belanjaan hana61225.4rupiah\n",
            "maka jummlah belanjaan tia setelah mendapatkan diskon adalah55102.86\n",
            "belanjaan widia\n",
            "maka belanjaan widia34276.2rupiah\n",
            "maka jummlah belanjaan tia setelah mendapatkan diskon adalah30848.579999999994\n"
          ]
        }
      ],
      "source": [
        "beras = 11400 #perkilozkon = 90 #kebalikan dari 10\n",
        "jb_diskon_tia = (jb_tia /100) * diskon\n",
        "print(\"maka belanjaan tia\" + str(jb_tia) + \"rupiah\")\n",
        "print(\"maka jummlah belanjaan tia setelah mendapatkan diskon adalah\" + str(jb_diskon_tia))\n",
        "print(\"belanjaan hana\")\n",
        "minyak_hana = 2\n",
        "ayam_hana = 18\n",
        "jb_hana = (minyak_hana * minyak) + (ayam_hana * ayam)\n",
        "diskon = 90 #kebalikan dari 10\n",
        "jb_diskon_hana = (jb_hana /100) * diskon\n",
        "print(\"maka belanjaan hana\" + str(jb_hana) + \"rupiah\")\n",
        "print(\"maka jummlah belanjaan tia setelah mendapatkan diskon adalah\" + str(jb_diskon_hana))\n",
        "print(\"belanjaan widia\")\n",
        "beras_widia = 3\n",
        "minyak_widia = 6\n",
        "jb_widia = (beras_widia * beras) + (minyak_widia * minyak)\n",
        "diskon = 90 #kebalikan dari 10\n",
        "jb_diskon_widia = (jb_widia /100) * diskon\n",
        "print(\"maka belanjaan widia\" + str(jb_widia) + \"rupiah\")\n",
        "print(\"maka jummlah belanjaan tia setelah mendapatkan diskon adalah\" + str(jb_diskon_widia))\n"
      ]
    },
    {
      "cell_type": "code",
      "source": [
        "beras\t= 11400\t#per kg\t\t\t\t\t\t\t\t\t\t\t\t\t\t\t\t\t\t\t\t\t\n",
        "minyak =\t12700\t#per 1liter\t\t\t\t\t\t\t\t\t\t\t\t\t\t\t\t\t\t\t\t\t\t\t\n",
        "ayam =\t3400\t#per 100gr\t\t\t\t\t\t\t\t\t\t\t\t\t\t\t\t\t\t\t\t\t\t\n",
        "telur =\t21800\t#per 1kg\t\t\t\t\t\t\t\t\t\t\t\t\t\t\t\t\t\t\t\t\t\t\t\n",
        "popok =\t27000\t#per pcs\t\t\t\t\t\t\t\t\t\t\t\t\t\t\t\t\t\t\t\t\t\t\n",
        "sabuncuci =\t1800\t#per 100gr\t\t\t\t\t\t\t\t\t\t\t\t\t\t\t\t\t\t\t\t\t\t\t\n",
        "buahanggur =\t3800\t#per 100gr\t\t\t\t\t\t\t\t\t\t\t\t\t\t\t\t\t\t\t\t\t\t\n",
        "rotitawar =\t8500\t#per 100gr\t\t\t\t\t\t\t\t\t\t\t\t\t\t\t\t\t\t\t\t\n",
        "tissu\t= 6400\t#per pcs\t\t\t\t\t\t\t\t\t\t\t\t\t\t\t\t\t\t\t\t\t\t\t\n",
        "mieinstan =\t2200\t#per pcs\t\n",
        "print(\"===soal 1===\")\n",
        "print(\"belanjaan tia\")\t\n",
        "beras_tia = 4\n",
        "ayam_tia = 2\n",
        "telur_tia = 3\n",
        "sabuncuci_tia = 5\n",
        "buahanggur_tia = 4\n",
        "rotitawar_tia = 2\n",
        "mieinstan_tia =\t\t12\n",
        "jb_tia = (beras_tia * beras) + (ayam_tia * (ayam * 10)) + (telur_tia * telur) + (sabuncuci_tia * sabuncuci) + (buahanggur_tia * buahanggur ) + (rotitawar_tia * rotitawar) + (mieinstan_tia * mieinstan)\n",
        "print(\"maka jumlah belanjaan tia \" + str(jb_tia) + \" rupiah\")\n",
        "diskon = 85\n",
        "jb_diskon_tia = (jb_tia / 100) * diskon\n",
        "print(\"maka jumlah belanjaan tia setelah diskon adalah \" + str(jb_diskon_tia))\n",
        "\n",
        "print(\"belanjaan hana\")\n",
        "minyak_hana = 2\n",
        "ayam_hana = 5\n",
        "telur_hana = 1.5\n",
        "sabuncuci_hana = 3\n",
        "buahanggur_hana = 8\n",
        "rotitawar_hana = 3\n",
        "tissu_hana = 2\n",
        "mieinstan_hana = 20\n",
        "jb_hana = (minyak_hana * minyak) + (ayam_hana * ayam  ) + (telur_hana * telur ) + (sabuncuci_hana * sabuncuci) + (buahanggur_hana * buahanggur ) + (rotitawar_hana * rotitawar) + (tissu_hana * tissu) + (mieinstan_hana * mieinstan)\n",
        "print(\"maka jumlah belanjaan hana\" + str(jb_hana))\n",
        "diskon = 90\n",
        "jb_diskon_hana = (jb_hana / 100) * diskon\n",
        "print(\"maka jumlah belanjaan hana setelah diskon adalah \" + str(jb_diskon_hana))\n",
        "\n",
        "print(\"===belanjaan widia===\")\n",
        "beras_widia = 1\n",
        "minyak_widia = 1\n",
        "telur_widia = 1\n",
        "buahanggur_widia = 5\n",
        "tissu_widia = 3\n",
        "mieinstan_widia = 16\n",
        "\n",
        "jb_widia = (beras_widia * beras) + (minyak_widia * minyak) + (telur_widia * telur) + (buahanggur_widia * buahanggur) + (tissu_widia * tissu) + (mieinstan_widia * mieinstan)\n",
        "print(\"maka jumlah belanjaan widia \" + str(jb_widia))\n",
        "diskon = 90\n",
        "jb_diskon_widia = (jb_widia / 100) * diskon\n",
        "print(\"maka jumlah belanjaan widia setelah diskon adalah \" + str(jb_diskon_widia))\n",
        "\n",
        "print(\"===belanjaan romi===\")\n",
        "minyak_romi = 3\n",
        "telur_romi = 2\n",
        "popok_romi = 4\n",
        "sabuncuci_romi = 8\n",
        "mieinstan_romi = 8\n",
        "\n",
        "\n",
        "jb_romi = (minyak_romi * minyak) + (telur_romi * telur) + (popok_romi * popok) + (sabuncuci_romi * sabuncuci) + (mieinstan_romi * mieinstan)\n",
        "print(\"maka jumlah belanjaan romi \" + str(jb_romi))\n",
        "diskon = 90\n",
        "jb_diskon_romi = (jb_romi / 100) * diskon\n",
        "print(\"maka jumlah belanjaan romi setelah diskon adalah \" + str(jb_diskon_romi))\n",
        "\n",
        "\n",
        "print(\"===belanjaan samsul===\")\n",
        "ayam_samsul = 3\n",
        "telur_samsul = 4\n",
        "popok_samsul = 2\n",
        "buahanggur_samsul = 7\n",
        "tissu_samsul = 5\n",
        "mieinstan_samsul = 10\n",
        "\n",
        "jb_samsul = (ayam_samsul * (ayam * 10)) + (telur_samsul * telur) + (popok_samsul * popok) + (buahanggur_samsul * buahanggur) + (tissu_samsul * tissu) + (mieinstan_samsul * mieinstan)\n",
        "print(\"maka jumlah belanjaan samsul \" + str(jb_samsul))\n",
        "diskon = 75\n",
        "jb_diskon_samsul = (jb_samsul / 100) * diskon\n",
        "print(\"maka jumlah belanjaan samsul setelah diskon adalah \" + str(jb_diskon_samsul))\n",
        "\n",
        "\n",
        "print(\"===belanjaan dimas===\")\n",
        "ayam_dimas = 5\n",
        "popok_dimas = 5\n",
        "sabuncuci_dimas = 4\n",
        "buahanggur_dimas = 3\n",
        "rotitawar_dimas = 5\n",
        "mieinstan_dimas = 5\n",
        "jb_dimas = (ayam_dimas * ayam) + (popok_dimas * popok) + (sabuncuci_dimas * sabuncuci) + (buahanggur_dimas * buahanggur) + (rotitawar_dimas * rotitawar) + (mieinstan_dimas * mieinstan)\n",
        "print(\"maka jumlah belanjaan dimas \" + str(jb_dimas))\n",
        "diskon = 75\n",
        "jb_diskon_dimas = (jb_dimas / 100) * diskon\n",
        "print(\"maka jumlah belanjaan dimas setelah diskon adalah \" + str(jb_diskon_dimas))\n",
        "\n",
        "\n",
        "print(\"===soal 3===\")\n",
        "\n",
        "max = [284475]\n",
        "print(\"maka jumlah belanjaan paling besar setelah diskon adalah dimas rp. \" + str (max))\n",
        "\n",
        "print(\"===soal 4===\")\n",
        "\n",
        "tenpersen = {\"hana\" : \"rp. 173880\"}\n",
        "print(\"maka ynag dapat diskon 10 persen adalah : \" + str(tenpersen))"
      ],
      "metadata": {
        "colab": {
          "base_uri": "https://localhost:8080/"
        },
        "id": "wXd21iY33DJG",
        "outputId": "0cb54867-14d6-4b5c-bbd0-44523c21f577"
      },
      "execution_count": 1,
      "outputs": [
        {
          "output_type": "stream",
          "name": "stdout",
          "text": [
            "===soal 1===\n",
            "belanjaan tia\n",
            "maka jumlah belanjaan tia 246600 rupiah\n",
            "maka jumlah belanjaan tia setelah diskon adalah 209610.0\n",
            "belanjaan hana\n",
            "maka jumlah belanjaan hana193200.0\n",
            "maka jumlah belanjaan hana setelah diskon adalah 173880.0\n",
            "===belanjaan widia===\n",
            "maka jumlah belanjaan widia 119300\n",
            "maka jumlah belanjaan widia setelah diskon adalah 107370.0\n",
            "===belanjaan romi===\n",
            "maka jumlah belanjaan romi 221700\n",
            "maka jumlah belanjaan romi setelah diskon adalah 199530.0\n",
            "===belanjaan samsul===\n",
            "maka jumlah belanjaan samsul 323800\n",
            "maka jumlah belanjaan samsul setelah diskon adalah 242850.0\n",
            "===belanjaan dimas===\n",
            "maka jumlah belanjaan dimas 224100\n",
            "maka jumlah belanjaan dimas setelah diskon adalah 168075.0\n",
            "===soal 3===\n",
            "maka jumlah belanjaan paling besar setelah diskon adalah dimas rp. [284475]\n",
            "===soal 4===\n",
            "maka ynag dapat diskon 10 persen adalah : {'hana': 'rp. 173880'}\n"
          ]
        }
      ]
    },
    {
      "cell_type": "code",
      "source": [],
      "metadata": {
        "id": "E-AtuEPo7nF-"
      },
      "execution_count": null,
      "outputs": []
    }
  ]
}